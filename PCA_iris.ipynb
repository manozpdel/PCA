{
 "cells": [
  {
   "cell_type": "code",
   "execution_count": 1,
   "id": "d28fde9e-7909-4a25-9255-dfa088fcb4da",
   "metadata": {},
   "outputs": [],
   "source": [
    "import numpy as np\n",
    "import pandas as pd\n",
    "from sklearn.datasets import load_iris"
   ]
  },
  {
   "cell_type": "code",
   "execution_count": 21,
   "id": "86ee6540-c097-4250-b6ce-597f5c65930b",
   "metadata": {},
   "outputs": [
    {
     "data": {
      "text/html": [
       "<div>\n",
       "<style scoped>\n",
       "    .dataframe tbody tr th:only-of-type {\n",
       "        vertical-align: middle;\n",
       "    }\n",
       "\n",
       "    .dataframe tbody tr th {\n",
       "        vertical-align: top;\n",
       "    }\n",
       "\n",
       "    .dataframe thead th {\n",
       "        text-align: right;\n",
       "    }\n",
       "</style>\n",
       "<table border=\"1\" class=\"dataframe\">\n",
       "  <thead>\n",
       "    <tr style=\"text-align: right;\">\n",
       "      <th></th>\n",
       "      <th>sepal length (cm)</th>\n",
       "      <th>sepal width (cm)</th>\n",
       "      <th>petal length (cm)</th>\n",
       "      <th>petal width (cm)</th>\n",
       "    </tr>\n",
       "  </thead>\n",
       "  <tbody>\n",
       "    <tr>\n",
       "      <th>0</th>\n",
       "      <td>5.1</td>\n",
       "      <td>3.5</td>\n",
       "      <td>1.4</td>\n",
       "      <td>0.2</td>\n",
       "    </tr>\n",
       "    <tr>\n",
       "      <th>1</th>\n",
       "      <td>4.9</td>\n",
       "      <td>3.0</td>\n",
       "      <td>1.4</td>\n",
       "      <td>0.2</td>\n",
       "    </tr>\n",
       "    <tr>\n",
       "      <th>2</th>\n",
       "      <td>4.7</td>\n",
       "      <td>3.2</td>\n",
       "      <td>1.3</td>\n",
       "      <td>0.2</td>\n",
       "    </tr>\n",
       "    <tr>\n",
       "      <th>3</th>\n",
       "      <td>4.6</td>\n",
       "      <td>3.1</td>\n",
       "      <td>1.5</td>\n",
       "      <td>0.2</td>\n",
       "    </tr>\n",
       "    <tr>\n",
       "      <th>4</th>\n",
       "      <td>5.0</td>\n",
       "      <td>3.6</td>\n",
       "      <td>1.4</td>\n",
       "      <td>0.2</td>\n",
       "    </tr>\n",
       "  </tbody>\n",
       "</table>\n",
       "</div>"
      ],
      "text/plain": [
       "   sepal length (cm)  sepal width (cm)  petal length (cm)  petal width (cm)\n",
       "0                5.1               3.5                1.4               0.2\n",
       "1                4.9               3.0                1.4               0.2\n",
       "2                4.7               3.2                1.3               0.2\n",
       "3                4.6               3.1                1.5               0.2\n",
       "4                5.0               3.6                1.4               0.2"
      ]
     },
     "execution_count": 21,
     "metadata": {},
     "output_type": "execute_result"
    }
   ],
   "source": [
    "iris=load_iris()\n",
    "df=pd.DataFrame(data=iris.data,columns=iris.feature_names)\n",
    "df.head()"
   ]
  },
  {
   "cell_type": "code",
   "execution_count": 23,
   "id": "b0d2c1b4-4744-44cd-b948-d346db50d30f",
   "metadata": {},
   "outputs": [],
   "source": [
    "df['target']=iris.target"
   ]
  },
  {
   "cell_type": "code",
   "execution_count": 24,
   "id": "f3abe11d-5ad6-49c3-82b4-37c2f07eb5a6",
   "metadata": {
    "scrolled": true
   },
   "outputs": [
    {
     "data": {
      "text/html": [
       "<div>\n",
       "<style scoped>\n",
       "    .dataframe tbody tr th:only-of-type {\n",
       "        vertical-align: middle;\n",
       "    }\n",
       "\n",
       "    .dataframe tbody tr th {\n",
       "        vertical-align: top;\n",
       "    }\n",
       "\n",
       "    .dataframe thead th {\n",
       "        text-align: right;\n",
       "    }\n",
       "</style>\n",
       "<table border=\"1\" class=\"dataframe\">\n",
       "  <thead>\n",
       "    <tr style=\"text-align: right;\">\n",
       "      <th></th>\n",
       "      <th>sepal length (cm)</th>\n",
       "      <th>sepal width (cm)</th>\n",
       "      <th>petal length (cm)</th>\n",
       "      <th>petal width (cm)</th>\n",
       "      <th>target</th>\n",
       "      <th>flower_name</th>\n",
       "    </tr>\n",
       "  </thead>\n",
       "  <tbody>\n",
       "    <tr>\n",
       "      <th>0</th>\n",
       "      <td>5.1</td>\n",
       "      <td>3.5</td>\n",
       "      <td>1.4</td>\n",
       "      <td>0.2</td>\n",
       "      <td>0</td>\n",
       "      <td>setosa</td>\n",
       "    </tr>\n",
       "    <tr>\n",
       "      <th>1</th>\n",
       "      <td>4.9</td>\n",
       "      <td>3.0</td>\n",
       "      <td>1.4</td>\n",
       "      <td>0.2</td>\n",
       "      <td>0</td>\n",
       "      <td>setosa</td>\n",
       "    </tr>\n",
       "    <tr>\n",
       "      <th>2</th>\n",
       "      <td>4.7</td>\n",
       "      <td>3.2</td>\n",
       "      <td>1.3</td>\n",
       "      <td>0.2</td>\n",
       "      <td>0</td>\n",
       "      <td>setosa</td>\n",
       "    </tr>\n",
       "    <tr>\n",
       "      <th>3</th>\n",
       "      <td>4.6</td>\n",
       "      <td>3.1</td>\n",
       "      <td>1.5</td>\n",
       "      <td>0.2</td>\n",
       "      <td>0</td>\n",
       "      <td>setosa</td>\n",
       "    </tr>\n",
       "    <tr>\n",
       "      <th>4</th>\n",
       "      <td>5.0</td>\n",
       "      <td>3.6</td>\n",
       "      <td>1.4</td>\n",
       "      <td>0.2</td>\n",
       "      <td>0</td>\n",
       "      <td>setosa</td>\n",
       "    </tr>\n",
       "  </tbody>\n",
       "</table>\n",
       "</div>"
      ],
      "text/plain": [
       "   sepal length (cm)  sepal width (cm)  petal length (cm)  petal width (cm)  \\\n",
       "0                5.1               3.5                1.4               0.2   \n",
       "1                4.9               3.0                1.4               0.2   \n",
       "2                4.7               3.2                1.3               0.2   \n",
       "3                4.6               3.1                1.5               0.2   \n",
       "4                5.0               3.6                1.4               0.2   \n",
       "\n",
       "   target flower_name  \n",
       "0       0      setosa  \n",
       "1       0      setosa  \n",
       "2       0      setosa  \n",
       "3       0      setosa  \n",
       "4       0      setosa  "
      ]
     },
     "execution_count": 24,
     "metadata": {},
     "output_type": "execute_result"
    }
   ],
   "source": [
    "df['flower_name']=df['target'].apply(lambda x: iris.target_names[x])\n",
    "df.head()"
   ]
  },
  {
   "cell_type": "code",
   "execution_count": 6,
   "id": "27ccfe97-549b-4900-ab77-3f623429e8d0",
   "metadata": {
    "scrolled": true
   },
   "outputs": [
    {
     "data": {
      "text/plain": [
       "<bound method Series.unique of 0      0\n",
       "1      0\n",
       "2      0\n",
       "3      0\n",
       "4      0\n",
       "      ..\n",
       "145    2\n",
       "146    2\n",
       "147    2\n",
       "148    2\n",
       "149    2\n",
       "Name: target, Length: 150, dtype: int64>"
      ]
     },
     "execution_count": 6,
     "metadata": {},
     "output_type": "execute_result"
    }
   ],
   "source": [
    "df['target'].unique"
   ]
  },
  {
   "cell_type": "code",
   "execution_count": 25,
   "id": "1ce3c7e2-3ba7-4cfd-af1d-93c12d148017",
   "metadata": {},
   "outputs": [
    {
     "data": {
      "text/html": [
       "<div>\n",
       "<style scoped>\n",
       "    .dataframe tbody tr th:only-of-type {\n",
       "        vertical-align: middle;\n",
       "    }\n",
       "\n",
       "    .dataframe tbody tr th {\n",
       "        vertical-align: top;\n",
       "    }\n",
       "\n",
       "    .dataframe thead th {\n",
       "        text-align: right;\n",
       "    }\n",
       "</style>\n",
       "<table border=\"1\" class=\"dataframe\">\n",
       "  <thead>\n",
       "    <tr style=\"text-align: right;\">\n",
       "      <th></th>\n",
       "      <th>sepal length (cm)</th>\n",
       "      <th>sepal width (cm)</th>\n",
       "      <th>petal length (cm)</th>\n",
       "      <th>petal width (cm)</th>\n",
       "      <th>target</th>\n",
       "      <th>flower_name</th>\n",
       "    </tr>\n",
       "  </thead>\n",
       "  <tbody>\n",
       "    <tr>\n",
       "      <th>0</th>\n",
       "      <td>5.1</td>\n",
       "      <td>3.5</td>\n",
       "      <td>1.4</td>\n",
       "      <td>0.2</td>\n",
       "      <td>0</td>\n",
       "      <td>setosa</td>\n",
       "    </tr>\n",
       "    <tr>\n",
       "      <th>1</th>\n",
       "      <td>4.9</td>\n",
       "      <td>3.0</td>\n",
       "      <td>1.4</td>\n",
       "      <td>0.2</td>\n",
       "      <td>0</td>\n",
       "      <td>setosa</td>\n",
       "    </tr>\n",
       "    <tr>\n",
       "      <th>2</th>\n",
       "      <td>4.7</td>\n",
       "      <td>3.2</td>\n",
       "      <td>1.3</td>\n",
       "      <td>0.2</td>\n",
       "      <td>0</td>\n",
       "      <td>setosa</td>\n",
       "    </tr>\n",
       "    <tr>\n",
       "      <th>3</th>\n",
       "      <td>4.6</td>\n",
       "      <td>3.1</td>\n",
       "      <td>1.5</td>\n",
       "      <td>0.2</td>\n",
       "      <td>0</td>\n",
       "      <td>setosa</td>\n",
       "    </tr>\n",
       "    <tr>\n",
       "      <th>4</th>\n",
       "      <td>5.0</td>\n",
       "      <td>3.6</td>\n",
       "      <td>1.4</td>\n",
       "      <td>0.2</td>\n",
       "      <td>0</td>\n",
       "      <td>setosa</td>\n",
       "    </tr>\n",
       "  </tbody>\n",
       "</table>\n",
       "</div>"
      ],
      "text/plain": [
       "   sepal length (cm)  sepal width (cm)  petal length (cm)  petal width (cm)  \\\n",
       "0                5.1               3.5                1.4               0.2   \n",
       "1                4.9               3.0                1.4               0.2   \n",
       "2                4.7               3.2                1.3               0.2   \n",
       "3                4.6               3.1                1.5               0.2   \n",
       "4                5.0               3.6                1.4               0.2   \n",
       "\n",
       "   target flower_name  \n",
       "0       0      setosa  \n",
       "1       0      setosa  \n",
       "2       0      setosa  \n",
       "3       0      setosa  \n",
       "4       0      setosa  "
      ]
     },
     "execution_count": 25,
     "metadata": {},
     "output_type": "execute_result"
    }
   ],
   "source": [
    "df.head()"
   ]
  },
  {
   "cell_type": "code",
   "execution_count": 74,
   "id": "36c1ead3-da93-4dc0-848b-9c52ae7866d6",
   "metadata": {},
   "outputs": [],
   "source": [
    "class PCA:\n",
    "    def __init__(self, n_components):\n",
    "        self.n_components = n_components\n",
    "        self.components = None\n",
    "        self.mean = None\n",
    "        \n",
    "    def fit(self, X):\n",
    "        # Convert DataFrame to numpy array if input is DataFrame\n",
    "        if isinstance(X, pd.DataFrame):\n",
    "            X = X.values\n",
    "        \n",
    "        # 1. Data Preprocessing\n",
    "        self.mean = np.mean(X, axis=0)\n",
    "        X = X - self.mean\n",
    "        \n",
    "        # 2. Compute the Covariance Matrix\n",
    "        covariance_matrix = np.cov(X.T)\n",
    "        \n",
    "        # 3. Compute the Eigenvectors and Eigenvalues\n",
    "        eigenvalues, eigenvectors = np.linalg.eig(covariance_matrix)\n",
    "        \n",
    "        # 4. Select Principal Components\n",
    "        idx = np.argsort(eigenvalues)[::-1]\n",
    "        self.components = eigenvectors[:, idx[:self.n_components]]\n",
    "        \n",
    "    def transform(self, X):\n",
    "        # Convert DataFrame to numpy array if input is DataFrame\n",
    "        if isinstance(X, pd.DataFrame):\n",
    "            X = X.values\n",
    "        \n",
    "        # Project data onto the new feature space\n",
    "        X = X - self.mean\n",
    "        transformed_data = np.dot(X, self.components)\n",
    "        \n",
    "        # If the input was a DataFrame, return a DataFrame\n",
    "        if isinstance(X, pd.DataFrame):\n",
    "            return pd.DataFrame(transformed_data, columns=[f'PC{i+1}' for i in range(transformed_data.shape[1])], index=X.index)\n",
    "        else:\n",
    "            return pd.DataFrame(transformed_data, columns=[f'PC{i+1}' for i in range(transformed_data.shape[1])])\n"
   ]
  },
  {
   "cell_type": "code",
   "execution_count": 54,
   "id": "d8e35e23-26e8-4b06-a9f8-533e64ec3c9c",
   "metadata": {},
   "outputs": [
    {
     "data": {
      "text/html": [
       "<div>\n",
       "<style scoped>\n",
       "    .dataframe tbody tr th:only-of-type {\n",
       "        vertical-align: middle;\n",
       "    }\n",
       "\n",
       "    .dataframe tbody tr th {\n",
       "        vertical-align: top;\n",
       "    }\n",
       "\n",
       "    .dataframe thead th {\n",
       "        text-align: right;\n",
       "    }\n",
       "</style>\n",
       "<table border=\"1\" class=\"dataframe\">\n",
       "  <thead>\n",
       "    <tr style=\"text-align: right;\">\n",
       "      <th></th>\n",
       "      <th>sepal length (cm)</th>\n",
       "      <th>sepal width (cm)</th>\n",
       "      <th>petal length (cm)</th>\n",
       "      <th>petal width (cm)</th>\n",
       "      <th>target</th>\n",
       "      <th>flower_name</th>\n",
       "    </tr>\n",
       "  </thead>\n",
       "  <tbody>\n",
       "    <tr>\n",
       "      <th>0</th>\n",
       "      <td>5.1</td>\n",
       "      <td>3.5</td>\n",
       "      <td>1.4</td>\n",
       "      <td>0.2</td>\n",
       "      <td>0</td>\n",
       "      <td>setosa</td>\n",
       "    </tr>\n",
       "    <tr>\n",
       "      <th>1</th>\n",
       "      <td>4.9</td>\n",
       "      <td>3.0</td>\n",
       "      <td>1.4</td>\n",
       "      <td>0.2</td>\n",
       "      <td>0</td>\n",
       "      <td>setosa</td>\n",
       "    </tr>\n",
       "    <tr>\n",
       "      <th>2</th>\n",
       "      <td>4.7</td>\n",
       "      <td>3.2</td>\n",
       "      <td>1.3</td>\n",
       "      <td>0.2</td>\n",
       "      <td>0</td>\n",
       "      <td>setosa</td>\n",
       "    </tr>\n",
       "    <tr>\n",
       "      <th>3</th>\n",
       "      <td>4.6</td>\n",
       "      <td>3.1</td>\n",
       "      <td>1.5</td>\n",
       "      <td>0.2</td>\n",
       "      <td>0</td>\n",
       "      <td>setosa</td>\n",
       "    </tr>\n",
       "    <tr>\n",
       "      <th>4</th>\n",
       "      <td>5.0</td>\n",
       "      <td>3.6</td>\n",
       "      <td>1.4</td>\n",
       "      <td>0.2</td>\n",
       "      <td>0</td>\n",
       "      <td>setosa</td>\n",
       "    </tr>\n",
       "  </tbody>\n",
       "</table>\n",
       "</div>"
      ],
      "text/plain": [
       "   sepal length (cm)  sepal width (cm)  petal length (cm)  petal width (cm)  \\\n",
       "0                5.1               3.5                1.4               0.2   \n",
       "1                4.9               3.0                1.4               0.2   \n",
       "2                4.7               3.2                1.3               0.2   \n",
       "3                4.6               3.1                1.5               0.2   \n",
       "4                5.0               3.6                1.4               0.2   \n",
       "\n",
       "   target flower_name  \n",
       "0       0      setosa  \n",
       "1       0      setosa  \n",
       "2       0      setosa  \n",
       "3       0      setosa  \n",
       "4       0      setosa  "
      ]
     },
     "execution_count": 54,
     "metadata": {},
     "output_type": "execute_result"
    }
   ],
   "source": [
    "df.head()"
   ]
  },
  {
   "cell_type": "code",
   "execution_count": 55,
   "id": "27b9b16d-95c6-4d2a-bf4a-e176b9416acb",
   "metadata": {},
   "outputs": [
    {
     "data": {
      "text/plain": [
       "Index(['sepal length (cm)', 'sepal width (cm)', 'petal length (cm)',\n",
       "       'petal width (cm)', 'target', 'flower_name'],\n",
       "      dtype='object')"
      ]
     },
     "execution_count": 55,
     "metadata": {},
     "output_type": "execute_result"
    }
   ],
   "source": [
    "df.columns\n"
   ]
  },
  {
   "cell_type": "code",
   "execution_count": 56,
   "id": "d94b3807-da0e-4f4c-ae7c-e639d83272cb",
   "metadata": {},
   "outputs": [
    {
     "data": {
      "text/html": [
       "<div>\n",
       "<style scoped>\n",
       "    .dataframe tbody tr th:only-of-type {\n",
       "        vertical-align: middle;\n",
       "    }\n",
       "\n",
       "    .dataframe tbody tr th {\n",
       "        vertical-align: top;\n",
       "    }\n",
       "\n",
       "    .dataframe thead th {\n",
       "        text-align: right;\n",
       "    }\n",
       "</style>\n",
       "<table border=\"1\" class=\"dataframe\">\n",
       "  <thead>\n",
       "    <tr style=\"text-align: right;\">\n",
       "      <th></th>\n",
       "      <th>sepal length (cm)</th>\n",
       "      <th>sepal width (cm)</th>\n",
       "      <th>petal length (cm)</th>\n",
       "      <th>petal width (cm)</th>\n",
       "    </tr>\n",
       "  </thead>\n",
       "  <tbody>\n",
       "    <tr>\n",
       "      <th>0</th>\n",
       "      <td>5.1</td>\n",
       "      <td>3.5</td>\n",
       "      <td>1.4</td>\n",
       "      <td>0.2</td>\n",
       "    </tr>\n",
       "    <tr>\n",
       "      <th>1</th>\n",
       "      <td>4.9</td>\n",
       "      <td>3.0</td>\n",
       "      <td>1.4</td>\n",
       "      <td>0.2</td>\n",
       "    </tr>\n",
       "    <tr>\n",
       "      <th>2</th>\n",
       "      <td>4.7</td>\n",
       "      <td>3.2</td>\n",
       "      <td>1.3</td>\n",
       "      <td>0.2</td>\n",
       "    </tr>\n",
       "    <tr>\n",
       "      <th>3</th>\n",
       "      <td>4.6</td>\n",
       "      <td>3.1</td>\n",
       "      <td>1.5</td>\n",
       "      <td>0.2</td>\n",
       "    </tr>\n",
       "    <tr>\n",
       "      <th>4</th>\n",
       "      <td>5.0</td>\n",
       "      <td>3.6</td>\n",
       "      <td>1.4</td>\n",
       "      <td>0.2</td>\n",
       "    </tr>\n",
       "  </tbody>\n",
       "</table>\n",
       "</div>"
      ],
      "text/plain": [
       "   sepal length (cm)  sepal width (cm)  petal length (cm)  petal width (cm)\n",
       "0                5.1               3.5                1.4               0.2\n",
       "1                4.9               3.0                1.4               0.2\n",
       "2                4.7               3.2                1.3               0.2\n",
       "3                4.6               3.1                1.5               0.2\n",
       "4                5.0               3.6                1.4               0.2"
      ]
     },
     "execution_count": 56,
     "metadata": {},
     "output_type": "execute_result"
    }
   ],
   "source": [
    "# Drop the 'target' column from the original DataFrame\n",
    "X = df.drop(['target','flower_name'], axis=1)\n",
    "X.head()\n"
   ]
  },
  {
   "cell_type": "code",
   "execution_count": 57,
   "id": "d9698cf7-275c-4765-8b20-698c616a2a79",
   "metadata": {},
   "outputs": [],
   "source": [
    "pca=PCA(n_components=2)\n",
    "pca.fit(X)"
   ]
  },
  {
   "cell_type": "code",
   "execution_count": 60,
   "id": "b61cf73d-a91e-4e1b-8f22-23357f944c7e",
   "metadata": {},
   "outputs": [],
   "source": [
    "new_df=pca.transform(X)\n",
    "new_df['target']=iris.target"
   ]
  },
  {
   "cell_type": "code",
   "execution_count": 61,
   "id": "f79adb3a-1748-40d3-9e7c-312ff2ea938f",
   "metadata": {},
   "outputs": [
    {
     "data": {
      "text/html": [
       "<div>\n",
       "<style scoped>\n",
       "    .dataframe tbody tr th:only-of-type {\n",
       "        vertical-align: middle;\n",
       "    }\n",
       "\n",
       "    .dataframe tbody tr th {\n",
       "        vertical-align: top;\n",
       "    }\n",
       "\n",
       "    .dataframe thead th {\n",
       "        text-align: right;\n",
       "    }\n",
       "</style>\n",
       "<table border=\"1\" class=\"dataframe\">\n",
       "  <thead>\n",
       "    <tr style=\"text-align: right;\">\n",
       "      <th></th>\n",
       "      <th>PC1</th>\n",
       "      <th>PC2</th>\n",
       "      <th>target</th>\n",
       "    </tr>\n",
       "  </thead>\n",
       "  <tbody>\n",
       "    <tr>\n",
       "      <th>0</th>\n",
       "      <td>-2.684126</td>\n",
       "      <td>-0.319397</td>\n",
       "      <td>0</td>\n",
       "    </tr>\n",
       "    <tr>\n",
       "      <th>1</th>\n",
       "      <td>-2.714142</td>\n",
       "      <td>0.177001</td>\n",
       "      <td>0</td>\n",
       "    </tr>\n",
       "    <tr>\n",
       "      <th>2</th>\n",
       "      <td>-2.888991</td>\n",
       "      <td>0.144949</td>\n",
       "      <td>0</td>\n",
       "    </tr>\n",
       "    <tr>\n",
       "      <th>3</th>\n",
       "      <td>-2.745343</td>\n",
       "      <td>0.318299</td>\n",
       "      <td>0</td>\n",
       "    </tr>\n",
       "    <tr>\n",
       "      <th>4</th>\n",
       "      <td>-2.728717</td>\n",
       "      <td>-0.326755</td>\n",
       "      <td>0</td>\n",
       "    </tr>\n",
       "  </tbody>\n",
       "</table>\n",
       "</div>"
      ],
      "text/plain": [
       "        PC1       PC2  target\n",
       "0 -2.684126 -0.319397       0\n",
       "1 -2.714142  0.177001       0\n",
       "2 -2.888991  0.144949       0\n",
       "3 -2.745343  0.318299       0\n",
       "4 -2.728717 -0.326755       0"
      ]
     },
     "execution_count": 61,
     "metadata": {},
     "output_type": "execute_result"
    }
   ],
   "source": [
    "new_df.head()"
   ]
  },
  {
   "cell_type": "code",
   "execution_count": 63,
   "id": "addd0de1-d9e7-4611-8dd4-0e27bc2dbde0",
   "metadata": {},
   "outputs": [
    {
     "data": {
      "image/png": "[encoded data removed]",
      "text/plain": [
       "<Figure size 640x480 with 1 Axes>"
      ]
     },
     "metadata": {},
     "output_type": "display_data"
    }
   ],
   "source": [
    "import seaborn as sns\n",
    "import matplotlib.pyplot as plt\n",
    "sns.scatterplot(data=new_df,x='PC1',y='PC2',hue='target')\n",
    "plt.show()"
   ]
  },
  {
   "cell_type": "code",
   "execution_count": 64,
   "id": "ef4a5ad8-d065-4095-96f9-7c71980d3772",
   "metadata": {},
   "outputs": [],
   "source": [
    "pca=PCA(n_components=3)\n",
    "pca.fit(X)"
   ]
  },
  {
   "cell_type": "code",
   "execution_count": 65,
   "id": "745ff906-a0eb-4929-bdd4-bc7b16a92718",
   "metadata": {},
   "outputs": [
    {
     "data": {
      "text/html": [
       "<div>\n",
       "<style scoped>\n",
       "    .dataframe tbody tr th:only-of-type {\n",
       "        vertical-align: middle;\n",
       "    }\n",
       "\n",
       "    .dataframe tbody tr th {\n",
       "        vertical-align: top;\n",
       "    }\n",
       "\n",
       "    .dataframe thead th {\n",
       "        text-align: right;\n",
       "    }\n",
       "</style>\n",
       "<table border=\"1\" class=\"dataframe\">\n",
       "  <thead>\n",
       "    <tr style=\"text-align: right;\">\n",
       "      <th></th>\n",
       "      <th>PC1</th>\n",
       "      <th>PC2</th>\n",
       "      <th>PC3</th>\n",
       "      <th>target</th>\n",
       "    </tr>\n",
       "  </thead>\n",
       "  <tbody>\n",
       "    <tr>\n",
       "      <th>0</th>\n",
       "      <td>-2.684126</td>\n",
       "      <td>-0.319397</td>\n",
       "      <td>-0.027915</td>\n",
       "      <td>0</td>\n",
       "    </tr>\n",
       "    <tr>\n",
       "      <th>1</th>\n",
       "      <td>-2.714142</td>\n",
       "      <td>0.177001</td>\n",
       "      <td>-0.210464</td>\n",
       "      <td>0</td>\n",
       "    </tr>\n",
       "    <tr>\n",
       "      <th>2</th>\n",
       "      <td>-2.888991</td>\n",
       "      <td>0.144949</td>\n",
       "      <td>0.017900</td>\n",
       "      <td>0</td>\n",
       "    </tr>\n",
       "    <tr>\n",
       "      <th>3</th>\n",
       "      <td>-2.745343</td>\n",
       "      <td>0.318299</td>\n",
       "      <td>0.031559</td>\n",
       "      <td>0</td>\n",
       "    </tr>\n",
       "    <tr>\n",
       "      <th>4</th>\n",
       "      <td>-2.728717</td>\n",
       "      <td>-0.326755</td>\n",
       "      <td>0.090079</td>\n",
       "      <td>0</td>\n",
       "    </tr>\n",
       "  </tbody>\n",
       "</table>\n",
       "</div>"
      ],
      "text/plain": [
       "        PC1       PC2       PC3  target\n",
       "0 -2.684126 -0.319397 -0.027915       0\n",
       "1 -2.714142  0.177001 -0.210464       0\n",
       "2 -2.888991  0.144949  0.017900       0\n",
       "3 -2.745343  0.318299  0.031559       0\n",
       "4 -2.728717 -0.326755  0.090079       0"
      ]
     },
     "execution_count": 65,
     "metadata": {},
     "output_type": "execute_result"
    }
   ],
   "source": [
    "new_df=pca.transform(X)\n",
    "new_df['target']=iris.target\n",
    "new_df.head()"
   ]
  },
  {
   "cell_type": "code",
   "execution_count": 73,
   "id": "ffc4d919-7ee4-4a45-9c29-c8ea6a1af5b9",
   "metadata": {},
   "outputs": [
    {
     "data": {
      "application/vnd.plotly.v1+json": {
       "config": {
        "plotlyServerURL": "https://plot.ly"
       },
       "data": [
        {
         "hovertemplate": "PC1=%{x}<br>PC2=%{y}<br>PC3=%{z}<br>target=%{marker.color}<extra></extra>",
         "legendgroup": "",
         "marker": {
          "color": [
           0,
           0,
           0,
           0,
           0,
           0,
           0,
           0,
           0,
           0,
           0,
           0,
           0,
           0,
           0,
           0,
           0,
           0,
           0,
           0,
           0,
           0,
           0,
           0,
           0,
           0,
           0,
           0,
           0,
           0,
           0,
           0,
           0,
           0,
           0,
           0,
           0,
           0,
           0,
           0,
           0,
           0,
           0,
           0,
           0,
           0,
           0,
           0,
           0,
           0,
           1,
           1,
           1,
           1,
           1,
           1,
           1,
           1,
           1,
           1,
           1,
           1,
           1,
           1,
           1,
           1,
           1,
           1,
           1,
           1,
           1,
           1,
           1,
           1,
           1,
           1,
           1,
           1,
           1,
           1,
           1,
           1,
           1,
           1,
           1,
           1,
           1,
           1,
           1,
           1,
           1,
           1,
           1,
           1,
           1,
           1,
           1,
           1,
           1,
           1,
           2,
           2,
           2,
           2,
           2,
           2,
           2,
           2,
           2,
           2,
           2,
           2,
           2,
           2,
           2,
           2,
           2,
           2,
           2,
           2,
           2,
           2,
           2,
           2,
           2,
           2,
           2,
           2,
           2,
           2,
           2,
           2,
           2,
           2,
           2,
           2,
           2,
           2,
           2,
           2,
           2,
           2,
           2,
           2,
           2,
           2,
           2,
           2,
           2,
           2
          ],
          "coloraxis": "coloraxis",
          "symbol": "circle"
         },
         "mode": "markers",
         "name": "",
         "scene": "scene",
         "showlegend": false,
         "type": "scatter3d",
         "x": [
          -2.6841256259695365,
          -2.7141416872943256,
          -2.8889905690592967,
          -2.7453428556414097,
          -2.72871653655453,
          -2.2808596328444923,
          -2.8205377507406086,
          -2.6261449731466326,
          -2.8863827317805533,
          -2.672755797820954,
          -2.506947090651856,
          -2.612755230908723,
          -2.786109266188018,
          -3.2238037438656524,
          -2.6447503899420295,
          -2.3860390335311337,
          -2.623527875224427,
          -2.6482967062543814,
          -2.19982032361758,
          -2.5879863998787687,
          -2.3102562152425183,
          -2.543705228757157,
          -3.2159394156486116,
          -2.3027331822262074,
          -2.3557540491237727,
          -2.506668906925822,
          -2.468820073121339,
          -2.562319906196016,
          -2.6395347153845425,
          -2.6319893872743463,
          -2.5873984766893523,
          -2.4099324970021754,
          -2.648862334349912,
          -2.598736749100587,
          -2.636926878105799,
          -2.8662416521186693,
          -2.6252380498503727,
          -2.800684115448222,
          -2.9805020437819936,
          -2.590006313968096,
          -2.770102426027902,
          -2.8493687050431036,
          -2.9974065465949074,
          -2.405614485097486,
          -2.20948923778368,
          -2.714451426757708,
          -2.53814825899894,
          -2.8394621676428504,
          -2.543085749830393,
          -2.7033597823351596,
          1.2848256888583507,
          0.9324885323123178,
          1.464302321991393,
          0.18331771995837007,
          1.0881032577116652,
          0.641669084258077,
          1.0950606626324462,
          -0.7491226698296577,
          1.0441318260534347,
          -0.008745404082896499,
          -0.5078408838353263,
          0.5116985574475968,
          0.26497650811204604,
          0.9849345104708895,
          -0.17392537168176836,
          0.9278607809442467,
          0.6602837616969364,
          0.23610499331767107,
          0.9447337280198126,
          0.04522697629869938,
          1.116283177350049,
          0.35788841799730675,
          1.298183875358913,
          0.9217289224470363,
          0.714853325911411,
          0.9001743731721666,
          1.3320244367220877,
          1.5578021550660694,
          0.8132906498175408,
          -0.30558377802430947,
          -0.06812649206836406,
          -0.18962247237850235,
          0.1364287115580144,
          1.3800264359155103,
          0.5880064433398628,
          0.8068583125004115,
          1.2206908824443523,
          0.8150952357665993,
          0.2459576798866919,
          0.16641321714545632,
          0.4648002884037787,
          0.8908151984694487,
          0.23054802355945486,
          -0.704531759244664,
          0.35698149470104645,
          0.3319344799450578,
          0.3762156510666698,
          0.6425760075543373,
          -0.9064698649488364,
          0.29900084187814274,
          2.531192727803627,
          1.4152358767039017,
          2.6166760159956888,
          1.9715310530434347,
          2.350005920044639,
          3.397038736053257,
          0.521232243909773,
          2.932587068993688,
          2.321228816573377,
          2.9167509667860716,
          1.6617741536365302,
          1.8034019529650902,
          2.165591796080144,
          1.3461635794584503,
          1.58592822387322,
          1.9044563747934258,
          1.9496890593990683,
          3.487055364290278,
          3.795645422072883,
          1.3007917126376562,
          2.4278179130660447,
          1.1990011054655596,
          3.499920038924537,
          1.3887661316914646,
          2.275430503872204,
          2.61409047381083,
          1.258508160511487,
          1.2911320591150202,
          2.123608722773894,
          2.388003016003467,
          2.8416727781038698,
          3.2306736614320912,
          2.159437642489049,
          1.444161242329509,
          1.7812948100451111,
          3.0764999316871866,
          2.1442433143020807,
          1.9050981488140748,
          1.1693263393414994,
          2.107611143257241,
          2.3141547052355986,
          1.9222678009025997,
          1.4152358767039017,
          2.5630133750774746,
          2.418746182732824,
          1.944109794546967,
          1.5271666148145164,
          1.764345717044428,
          1.9009416142184223,
          1.390188861947913
         ],
         "y": [
          -0.3193972465851006,
          0.17700122506478072,
          0.14494942608555794,
          0.3182989792519168,
          -0.32675451293491936,
          -0.7413304490629146,
          0.08946138452856947,
          -0.16338495969832814,
          0.5783117541867044,
          0.11377424587411744,
          -0.6450688986485734,
          -0.014729939161373946,
          0.235112000201719,
          0.5113945870063829,
          -1.1787646364375748,
          -1.3380623304006523,
          -0.8106795141812574,
          -0.3118491445933543,
          -0.8728390389622105,
          -0.5135603087492765,
          -0.39134593565389375,
          -0.43299606327902773,
          -0.1334680695385252,
          -0.098708854814099,
          0.037281859677383115,
          0.14601688049526826,
          -0.13095148943524978,
          -0.3677188574341994,
          -0.31203998023528234,
          0.19696122492431511,
          0.20431849127413404,
          -0.4109242642295725,
          -0.8133638202969615,
          -1.0931457594493565,
          0.12132234786586375,
          -0.06936447158008005,
          -0.5993700213794233,
          -0.26864373779798173,
          0.48795834442861596,
          -0.22904383682701215,
          -0.26352753374425597,
          0.9409605736411973,
          0.3419260574716104,
          -0.1888714289302599,
          -0.43666314163918735,
          0.2502082041852116,
          -0.5037711444614371,
          0.22794556949382822,
          -0.5794100215198889,
          -0.10770608249941108,
          -0.6851604704673085,
          -0.31833363826262884,
          -0.5042628153092041,
          0.8279590118206324,
          -0.07459067519771617,
          0.418246871568679,
          -0.2834682700615289,
          1.0048909611818957,
          -0.22836189978839547,
          0.7230819050048345,
          1.265971190526394,
          0.10398123549904056,
          0.550036463680475,
          0.12481785412635756,
          0.25485420870258946,
          -0.46717949444151047,
          0.35296966572385063,
          0.33361076682491564,
          0.5431455507797665,
          0.5838343774718646,
          0.08461685219478814,
          0.06892503165601407,
          0.3277873083339175,
          0.1827377936213677,
          -0.14905594436978464,
          -0.3285044738343232,
          -0.24444087601634343,
          -0.26749544731025465,
          0.16335030068761644,
          0.36826218975458824,
          0.7051721317994656,
          0.6802867635281336,
          0.31403243824923693,
          0.420954287313882,
          0.4842874199812186,
          -0.1941823147131507,
          -0.4076195936110071,
          0.3720370599095019,
          0.26852439662201516,
          0.6819267248636269,
          0.6707115445117208,
          0.034464444368269016,
          0.4043858480073254,
          1.0122482275317146,
          0.5049100933371088,
          0.21265468378117014,
          0.2932189292514192,
          -0.017738190112416136,
          0.7560933665990143,
          0.34889780645033613,
          0.009849109498801967,
          0.5749163475464895,
          -0.34390315134173444,
          0.17972790435224556,
          0.040260947142531006,
          -0.5508366730280555,
          1.1927587270006457,
          -0.3555000029774964,
          0.2438315023106906,
          -0.7827919488152787,
          -0.24222840775506704,
          0.21563761733355538,
          -0.21627558507402478,
          0.7768183473443396,
          0.5396407140267186,
          -0.1192506920919728,
          -0.04194325966321132,
          -1.1757393297134293,
          -0.2573229734204796,
          0.7611496364350635,
          -0.3781960126170509,
          0.6060915277579306,
          -0.46067409891189504,
          0.20439932735215094,
          -0.3349906058216774,
          -0.5609013551230778,
          0.17970479472274667,
          0.11666865117401151,
          0.20972947667730268,
          -0.46463980470873634,
          -0.3752691671951034,
          -1.3741650867930475,
          0.217277578669049,
          0.14341341045758088,
          0.49990168107813665,
          -0.6880856775711761,
          -0.14006420108978992,
          -0.04930052601303014,
          0.16499026202310968,
          -0.3722878719607977,
          -0.18365127916901908,
          -0.40920346681606234,
          0.5749163475464895,
          -0.2778626029291949,
          -0.30479819785469214,
          -0.1875323028006054,
          0.3753169825804884,
          -0.07885885451847575,
          -0.11662795851202364,
          0.2826609379905507
         ],
         "z": [
          -0.027914827589413885,
          -0.21046427237824428,
          0.017900256320890092,
          0.03155937360568139,
          0.0900792405512012,
          0.16867765820910433,
          0.25789215825561806,
          -0.0218793178867196,
          0.020759570264780366,
          -0.19763272498814627,
          -0.07531800937912042,
          0.10215025995659033,
          -0.2068444304496445,
          0.06129967245709923,
          -0.1516275236178105,
          0.277776902703135,
          0.13818322788071816,
          0.026668315612593408,
          -0.12030552339473156,
          0.21366517222471582,
          -0.2394440432449535,
          0.20845723241671457,
          0.2923967507452421,
          0.039123258742879995,
          0.12502108270287993,
          -0.2534200423446577,
          0.09491057609939138,
          -0.07849420513792443,
          -0.14590889573002963,
          0.04077107906717969,
          -0.07722298907343556,
          -0.14552497200513206,
          0.2256691497201202,
          0.15781081295821986,
          -0.14304958178613908,
          -0.16433230665302634,
          -0.2683503756939374,
          0.09369908247980054,
          0.07292704569269248,
          -0.08008230301732616,
          0.07724769316110323,
          -0.34923037730596745,
          0.19250921171270996,
          0.2638679455134145,
          0.2987427457551091,
          -0.09767814404563004,
          0.16670563660480497,
          0.08372684903359362,
          -0.017115024248513414,
          -0.08929400847882485,
          -0.4065680254676946,
          -0.018014186646240583,
          -0.33832576498089656,
          -0.17959139187535553,
          -0.30775789623478544,
          0.04107609082395695,
          0.16981023986057522,
          0.012302919237595668,
          -0.4153360847593976,
          0.2811414311764099,
          -0.26981718276885236,
          0.13054775024048582,
          -0.6941468301444191,
          -0.062114408322260506,
          0.09045769072570393,
          -0.314620975832173,
          0.32802752837859583,
          -0.27116183725106585,
          -0.49951904648511375,
          -0.23500210497205556,
          0.4596209913591041,
          -0.22985388760895203,
          -0.34785435225730815,
          -0.23107177773628368,
          -0.32180093724447423,
          -0.31620907371157475,
          -0.5217027796644195,
          -0.16492098374358083,
          0.035424504846160214,
          -0.3184915806230472,
          -0.24421381043355433,
          -0.3064205612176581,
          -0.1772427660112444,
          0.01616712752072942,
          0.44443349863980874,
          0.3889630630982108,
          -0.23716700988387615,
          -0.6147208425918227,
          0.18836681164619523,
          -0.06000922585533808,
          -0.02430685571895054,
          -0.009946932894348351,
          -0.22941024143915661,
          -0.10569114890301957,
          0.01661717019826592,
          0.08320429089567752,
          0.0779963510876761,
          -0.20539496698326076,
          -0.012599647557890871,
          0.010581660495570824,
          0.7601654272458952,
          0.29632252738796455,
          -0.11078788321910947,
          0.10842466246342379,
          0.28538956318444114,
          -0.34843755579746727,
          0.5456592956468134,
          -0.4202399357679673,
          -0.3483043949348446,
          0.4233354176825575,
          0.24244018972576828,
          -0.03764816823148273,
          0.03332664184432434,
          0.28190288211846437,
          0.6290293264080092,
          0.47963981962658947,
          0.044186167630122494,
          0.13389487393609883,
          -0.513767763817805,
          -0.34499503831341766,
          0.21911932430194228,
          0.5118555086970007,
          -0.5731822425680024,
          -0.06452275663126901,
          0.28615009116914975,
          -0.20553452435362424,
          0.045847703927249336,
          0.23125646265997032,
          0.1541800239288298,
          -0.44953019194184923,
          -0.49889807587076906,
          -0.11454820547541876,
          0.2087631671308371,
          -0.15323388806308932,
          -0.17287518911341773,
          -0.33559229243454247,
          0.7348789367255105,
          0.16218023577073773,
          0.28183584020848024,
          0.027291132141629607,
          0.32269374717305765,
          0.11358659579935429,
          0.29632252738796455,
          0.29256952459674224,
          0.5044826639771787,
          0.17782509063265564,
          -0.12189817186718274,
          0.13048163128784743,
          0.7232515634899167,
          0.36290964808537624
         ]
        }
       ],
       "layout": {
        "autosize": true,
        "coloraxis": {
         "colorbar": {
          "title": {
           "text": "target"
          }
         },
         "colorscale": [
          [
           0,
           "#0d0887"
          ],
          [
           0.1111111111111111,
           "#46039f"
          ],
          [
           0.2222222222222222,
           "#7201a8"
          ],
          [
           0.3333333333333333,
           "#9c179e"
          ],
          [
           0.4444444444444444,
           "#bd3786"
          ],
          [
           0.5555555555555556,
           "#d8576b"
          ],
          [
           0.6666666666666666,
           "#ed7953"
          ],
          [
           0.7777777777777778,
           "#fb9f3a"
          ],
          [
           0.8888888888888888,
           "#fdca26"
          ],
          [
           1,
           "#f0f921"
          ]
         ]
        },
        "legend": {
         "tracegroupgap": 0
        },
        "margin": {
         "b": 10,
         "l": 10,
         "r": 20,
         "t": 10
        },
        "scene": {
         "aspectmode": "auto",
         "aspectratio": {
          "x": 1,
          "y": 1,
          "z": 1
         },
         "camera": {
          "center": {
           "x": 0,
           "y": 0,
           "z": 0
          },
          "eye": {
           "x": 0.030190574549978873,
           "y": -1.822158953993031,
           "z": 0.023161130229126515
          },
          "projection": {
           "type": "perspective"
          },
          "up": {
           "x": -0.1543977173152005,
           "y": 0.1835973469629796,
           "z": 0.9708003703522217
          }
         },
         "domain": {
          "x": [
           0,
           1
          ],
          "y": [
           0,
           1
          ]
         },
         "xaxis": {
          "title": {
           "text": "PC1"
          },
          "type": "linear"
         },
         "yaxis": {
          "title": {
           "text": "PC2"
          },
          "type": "linear"
         },
         "zaxis": {
          "title": {
           "text": "PC3"
          },
          "type": "linear"
         }
        },
        "template": {
         "data": {
          "bar": [
           {
            "error_x": {
             "color": "#2a3f5f"
            },
            "error_y": {
             "color": "#2a3f5f"
            },
            "marker": {
             "line": {
              "color": "#E5ECF6",
              "width": 0.5
             },
             "pattern": {
              "fillmode": "overlay",
              "size": 10,
              "solidity": 0.2
             }
            },
            "type": "bar"
           }
          ],
          "barpolar": [
           {
            "marker": {
             "line": {
              "color": "#E5ECF6",
              "width": 0.5
             },
             "pattern": {
              "fillmode": "overlay",
              "size": 10,
              "solidity": 0.2
             }
            },
            "type": "barpolar"
           }
          ],
          "carpet": [
           {
            "aaxis": {
             "endlinecolor": "#2a3f5f",
             "gridcolor": "white",
             "linecolor": "white",
             "minorgridcolor": "white",
             "startlinecolor": "#2a3f5f"
            },
            "baxis": {
             "endlinecolor": "#2a3f5f",
             "gridcolor": "white",
             "linecolor": "white",
             "minorgridcolor": "white",
             "startlinecolor": "#2a3f5f"
            },
            "type": "carpet"
           }
          ],
          "choropleth": [
           {
            "colorbar": {
             "outlinewidth": 0,
             "ticks": ""
            },
            "type": "choropleth"
           }
          ],
          "contour": [
           {
            "colorbar": {
             "outlinewidth": 0,
             "ticks": ""
            },
            "colorscale": [
             [
              0,
              "#0d0887"
             ],
             [
              0.1111111111111111,
              "#46039f"
             ],
             [
              0.2222222222222222,
              "#7201a8"
             ],
             [
              0.3333333333333333,
              "#9c179e"
             ],
             [
              0.4444444444444444,
              "#bd3786"
             ],
             [
              0.5555555555555556,
              "#d8576b"
             ],
             [
              0.6666666666666666,
              "#ed7953"
             ],
             [
              0.7777777777777778,
              "#fb9f3a"
             ],
             [
              0.8888888888888888,
              "#fdca26"
             ],
             [
              1,
              "#f0f921"
             ]
            ],
            "type": "contour"
           }
          ],
          "contourcarpet": [
           {
            "colorbar": {
             "outlinewidth": 0,
             "ticks": ""
            },
            "type": "contourcarpet"
           }
          ],
          "heatmap": [
           {
            "colorbar": {
             "outlinewidth": 0,
             "ticks": ""
            },
            "colorscale": [
             [
              0,
              "#0d0887"
             ],
             [
              0.1111111111111111,
              "#46039f"
             ],
             [
              0.2222222222222222,
              "#7201a8"
             ],
             [
              0.3333333333333333,
              "#9c179e"
             ],
             [
              0.4444444444444444,
              "#bd3786"
             ],
             [
              0.5555555555555556,
              "#d8576b"
             ],
             [
              0.6666666666666666,
              "#ed7953"
             ],
             [
              0.7777777777777778,
              "#fb9f3a"
             ],
             [
              0.8888888888888888,
              "#fdca26"
             ],
             [
              1,
              "#f0f921"
             ]
            ],
            "type": "heatmap"
           }
          ],
          "heatmapgl": [
           {
            "colorbar": {
             "outlinewidth": 0,
             "ticks": ""
            },
            "colorscale": [
             [
              0,
              "#0d0887"
             ],
             [
              0.1111111111111111,
              "#46039f"
             ],
             [
              0.2222222222222222,
              "#7201a8"
             ],
             [
              0.3333333333333333,
              "#9c179e"
             ],
             [
              0.4444444444444444,
              "#bd3786"
             ],
             [
              0.5555555555555556,
              "#d8576b"
             ],
             [
              0.6666666666666666,
              "#ed7953"
             ],
             [
              0.7777777777777778,
              "#fb9f3a"
             ],
             [
              0.8888888888888888,
              "#fdca26"
             ],
             [
              1,
              "#f0f921"
             ]
            ],
            "type": "heatmapgl"
           }
          ],
          "histogram": [
           {
            "marker": {
             "pattern": {
              "fillmode": "overlay",
              "size": 10,
              "solidity": 0.2
             }
            },
            "type": "histogram"
           }
          ],
          "histogram2d": [
           {
            "colorbar": {
             "outlinewidth": 0,
             "ticks": ""
            },
            "colorscale": [
             [
              0,
              "#0d0887"
             ],
             [
              0.1111111111111111,
              "#46039f"
             ],
             [
              0.2222222222222222,
              "#7201a8"
             ],
             [
              0.3333333333333333,
              "#9c179e"
             ],
             [
              0.4444444444444444,
              "#bd3786"
             ],
             [
              0.5555555555555556,
              "#d8576b"
             ],
             [
              0.6666666666666666,
              "#ed7953"
             ],
             [
              0.7777777777777778,
              "#fb9f3a"
             ],
             [
              0.8888888888888888,
              "#fdca26"
             ],
             [
              1,
              "#f0f921"
             ]
            ],
            "type": "histogram2d"
           }
          ],
          "histogram2dcontour": [
           {
            "colorbar": {
             "outlinewidth": 0,
             "ticks": ""
            },
            "colorscale": [
             [
              0,
              "#0d0887"
             ],
             [
              0.1111111111111111,
              "#46039f"
             ],
             [
              0.2222222222222222,
              "#7201a8"
             ],
             [
              0.3333333333333333,
              "#9c179e"
             ],
             [
              0.4444444444444444,
              "#bd3786"
             ],
             [
              0.5555555555555556,
              "#d8576b"
             ],
             [
              0.6666666666666666,
              "#ed7953"
             ],
             [
              0.7777777777777778,
              "#fb9f3a"
             ],
             [
              0.8888888888888888,
              "#fdca26"
             ],
             [
              1,
              "#f0f921"
             ]
            ],
            "type": "histogram2dcontour"
           }
          ],
          "mesh3d": [
           {
            "colorbar": {
             "outlinewidth": 0,
             "ticks": ""
            },
            "type": "mesh3d"
           }
          ],
          "parcoords": [
           {
            "line": {
             "colorbar": {
              "outlinewidth": 0,
              "ticks": ""
             }
            },
            "type": "parcoords"
           }
          ],
          "pie": [
           {
            "automargin": true,
            "type": "pie"
           }
          ],
          "scatter": [
           {
            "fillpattern": {
             "fillmode": "overlay",
             "size": 10,
             "solidity": 0.2
            },
            "type": "scatter"
           }
          ],
          "scatter3d": [
           {
            "line": {
             "colorbar": {
              "outlinewidth": 0,
              "ticks": ""
             }
            },
            "marker": {
             "colorbar": {
              "outlinewidth": 0,
              "ticks": ""
             }
            },
            "type": "scatter3d"
           }
          ],
          "scattercarpet": [
           {
            "marker": {
             "colorbar": {
              "outlinewidth": 0,
              "ticks": ""
             }
            },
            "type": "scattercarpet"
           }
          ],
          "scattergeo": [
           {
            "marker": {
             "colorbar": {
              "outlinewidth": 0,
              "ticks": ""
             }
            },
            "type": "scattergeo"
           }
          ],
          "scattergl": [
           {
            "marker": {
             "colorbar": {
              "outlinewidth": 0,
              "ticks": ""
             }
            },
            "type": "scattergl"
           }
          ],
          "scattermapbox": [
           {
            "marker": {
             "colorbar": {
              "outlinewidth": 0,
              "ticks": ""
             }
            },
            "type": "scattermapbox"
           }
          ],
          "scatterpolar": [
           {
            "marker": {
             "colorbar": {
              "outlinewidth": 0,
              "ticks": ""
             }
            },
            "type": "scatterpolar"
           }
          ],
          "scatterpolargl": [
           {
            "marker": {
             "colorbar": {
              "outlinewidth": 0,
              "ticks": ""
             }
            },
            "type": "scatterpolargl"
           }
          ],
          "scatterternary": [
           {
            "marker": {
             "colorbar": {
              "outlinewidth": 0,
              "ticks": ""
             }
            },
            "type": "scatterternary"
           }
          ],
          "surface": [
           {
            "colorbar": {
             "outlinewidth": 0,
             "ticks": ""
            },
            "colorscale": [
             [
              0,
              "#0d0887"
             ],
             [
              0.1111111111111111,
              "#46039f"
             ],
             [
              0.2222222222222222,
              "#7201a8"
             ],
             [
              0.3333333333333333,
              "#9c179e"
             ],
             [
              0.4444444444444444,
              "#bd3786"
             ],
             [
              0.5555555555555556,
              "#d8576b"
             ],
             [
              0.6666666666666666,
              "#ed7953"
             ],
             [
              0.7777777777777778,
              "#fb9f3a"
             ],
             [
              0.8888888888888888,
              "#fdca26"
             ],
             [
              1,
              "#f0f921"
             ]
            ],
            "type": "surface"
           }
          ],
          "table": [
           {
            "cells": {
             "fill": {
              "color": "#EBF0F8"
             },
             "line": {
              "color": "white"
             }
            },
            "header": {
             "fill": {
              "color": "#C8D4E3"
             },
             "line": {
              "color": "white"
             }
            },
            "type": "table"
           }
          ]
         },
         "layout": {
          "annotationdefaults": {
           "arrowcolor": "#2a3f5f",
           "arrowhead": 0,
           "arrowwidth": 1
          },
          "autotypenumbers": "strict",
          "coloraxis": {
           "colorbar": {
            "outlinewidth": 0,
            "ticks": ""
           }
          },
          "colorscale": {
           "diverging": [
            [
             0,
             "#8e0152"
            ],
            [
             0.1,
             "#c51b7d"
            ],
            [
             0.2,
             "#de77ae"
            ],
            [
             0.3,
             "#f1b6da"
            ],
            [
             0.4,
             "#fde0ef"
            ],
            [
             0.5,
             "#f7f7f7"
            ],
            [
             0.6,
             "#e6f5d0"
            ],
            [
             0.7,
             "#b8e186"
            ],
            [
             0.8,
             "#7fbc41"
            ],
            [
             0.9,
             "#4d9221"
            ],
            [
             1,
             "#276419"
            ]
           ],
           "sequential": [
            [
             0,
             "#0d0887"
            ],
            [
             0.1111111111111111,
             "#46039f"
            ],
            [
             0.2222222222222222,
             "#7201a8"
            ],
            [
             0.3333333333333333,
             "#9c179e"
            ],
            [
             0.4444444444444444,
             "#bd3786"
            ],
            [
             0.5555555555555556,
             "#d8576b"
            ],
            [
             0.6666666666666666,
             "#ed7953"
            ],
            [
             0.7777777777777778,
             "#fb9f3a"
            ],
            [
             0.8888888888888888,
             "#fdca26"
            ],
            [
             1,
             "#f0f921"
            ]
           ],
           "sequentialminus": [
            [
             0,
             "#0d0887"
            ],
            [
             0.1111111111111111,
             "#46039f"
            ],
            [
             0.2222222222222222,
             "#7201a8"
            ],
            [
             0.3333333333333333,
             "#9c179e"
            ],
            [
             0.4444444444444444,
             "#bd3786"
            ],
            [
             0.5555555555555556,
             "#d8576b"
            ],
            [
             0.6666666666666666,
             "#ed7953"
            ],
            [
             0.7777777777777778,
             "#fb9f3a"
            ],
            [
             0.8888888888888888,
             "#fdca26"
            ],
            [
             1,
             "#f0f921"
            ]
           ]
          },
          "colorway": [
           "#636efa",
           "#EF553B",
           "#00cc96",
           "#ab63fa",
           "#FFA15A",
           "#19d3f3",
           "#FF6692",
           "#B6E880",
           "#FF97FF",
           "#FECB52"
          ],
          "font": {
           "color": "#2a3f5f"
          },
          "geo": {
           "bgcolor": "white",
           "lakecolor": "white",
           "landcolor": "#E5ECF6",
           "showlakes": true,
           "showland": true,
           "subunitcolor": "white"
          },
          "hoverlabel": {
           "align": "left"
          },
          "hovermode": "closest",
          "mapbox": {
           "style": "light"
          },
          "paper_bgcolor": "white",
          "plot_bgcolor": "#E5ECF6",
          "polar": {
           "angularaxis": {
            "gridcolor": "white",
            "linecolor": "white",
            "ticks": ""
           },
           "bgcolor": "#E5ECF6",
           "radialaxis": {
            "gridcolor": "white",
            "linecolor": "white",
            "ticks": ""
           }
          },
          "scene": {
           "xaxis": {
            "backgroundcolor": "#E5ECF6",
            "gridcolor": "white",
            "gridwidth": 2,
            "linecolor": "white",
            "showbackground": true,
            "ticks": "",
            "zerolinecolor": "white"
           },
           "yaxis": {
            "backgroundcolor": "#E5ECF6",
            "gridcolor": "white",
            "gridwidth": 2,
            "linecolor": "white",
            "showbackground": true,
            "ticks": "",
            "zerolinecolor": "white"
           },
           "zaxis": {
            "backgroundcolor": "#E5ECF6",
            "gridcolor": "white",
            "gridwidth": 2,
            "linecolor": "white",
            "showbackground": true,
            "ticks": "",
            "zerolinecolor": "white"
           }
          },
          "shapedefaults": {
           "line": {
            "color": "#2a3f5f"
           }
          },
          "ternary": {
           "aaxis": {
            "gridcolor": "white",
            "linecolor": "white",
            "ticks": ""
           },
           "baxis": {
            "gridcolor": "white",
            "linecolor": "white",
            "ticks": ""
           },
           "bgcolor": "#E5ECF6",
           "caxis": {
            "gridcolor": "white",
            "linecolor": "white",
            "ticks": ""
           }
          },
          "title": {
           "x": 0.05
          },
          "xaxis": {
           "automargin": true,
           "gridcolor": "white",
           "linecolor": "white",
           "ticks": "",
           "title": {
            "standoff": 15
           },
           "zerolinecolor": "white",
           "zerolinewidth": 2
          },
          "yaxis": {
           "automargin": true,
           "gridcolor": "white",
           "linecolor": "white",
           "ticks": "",
           "title": {
            "standoff": 15
           },
           "zerolinecolor": "white",
           "zerolinewidth": 2
          }
         }
        }
       }
      },
      "image/png": "[encoded data removed]",
      "text/html": [
       "<div>                            <div id=\"48a8e6ae-2a7c-49d4-b4e3-74264a671152\" class=\"plotly-graph-div\" style=\"height:525px; width:900px;\"></div>            <script type=\"text/javascript\">                require([\"plotly\"], function(Plotly) {                    window.PLOTLYENV=window.PLOTLYENV || {};                                    if (document.getElementById(\"48a8e6ae-2a7c-49d4-b4e3-74264a671152\")) {                    Plotly.newPlot(                        \"48a8e6ae-2a7c-49d4-b4e3-74264a671152\",                        [{\"hovertemplate\":\"PC1=%{x}<br>PC2=%{y}<br>PC3=%{z}<br>target=%{marker.color}<extra></extra>\",\"legendgroup\":\"\",\"marker\":{\"color\":[0,0,0,0,0,0,0,0,0,0,0,0,0,0,0,0,0,0,0,0,0,0,0,0,0,0,0,0,0,0,0,0,0,0,0,0,0,0,0,0,0,0,0,0,0,0,0,0,0,0,1,1,1,1,1,1,1,1,1,1,1,1,1,1,1,1,1,1,1,1,1,1,1,1,1,1,1,1,1,1,1,1,1,1,1,1,1,1,1,1,1,1,1,1,1,1,1,1,1,1,2,2,2,2,2,2,2,2,2,2,2,2,2,2,2,2,2,2,2,2,2,2,2,2,2,2,2,2,2,2,2,2,2,2,2,2,2,2,2,2,2,2,2,2,2,2,2,2,2,2],\"coloraxis\":\"coloraxis\",\"symbol\":\"circle\"},\"mode\":\"markers\",\"name\":\"\",\"scene\":\"scene\",\"showlegend\":false,\"x\":[-2.6841256259695365,-2.7141416872943256,-2.8889905690592967,-2.7453428556414097,-2.72871653655453,-2.2808596328444923,-2.8205377507406086,-2.6261449731466326,-2.8863827317805533,-2.672755797820954,-2.506947090651856,-2.612755230908723,-2.786109266188018,-3.2238037438656524,-2.6447503899420295,-2.3860390335311337,-2.623527875224427,-2.6482967062543814,-2.19982032361758,-2.5879863998787687,-2.3102562152425183,-2.543705228757157,-3.2159394156486116,-2.3027331822262074,-2.3557540491237727,-2.506668906925822,-2.468820073121339,-2.562319906196016,-2.6395347153845425,-2.6319893872743463,-2.5873984766893523,-2.4099324970021754,-2.648862334349912,-2.598736749100587,-2.636926878105799,-2.8662416521186693,-2.6252380498503727,-2.800684115448222,-2.9805020437819936,-2.590006313968096,-2.770102426027902,-2.8493687050431036,-2.9974065465949074,-2.405614485097486,-2.20948923778368,-2.714451426757708,-2.53814825899894,-2.8394621676428504,-2.543085749830393,-2.7033597823351596,1.2848256888583507,0.9324885323123178,1.464302321991393,0.18331771995837007,1.0881032577116652,0.641669084258077,1.0950606626324462,-0.7491226698296577,1.0441318260534347,-0.008745404082896499,-0.5078408838353263,0.5116985574475968,0.26497650811204604,0.9849345104708895,-0.17392537168176836,0.9278607809442467,0.6602837616969364,0.23610499331767107,0.9447337280198126,0.04522697629869938,1.116283177350049,0.35788841799730675,1.298183875358913,0.9217289224470363,0.714853325911411,0.9001743731721666,1.3320244367220877,1.5578021550660694,0.8132906498175408,-0.30558377802430947,-0.06812649206836406,-0.18962247237850235,0.1364287115580144,1.3800264359155103,0.5880064433398628,0.8068583125004115,1.2206908824443523,0.8150952357665993,0.2459576798866919,0.16641321714545632,0.4648002884037787,0.8908151984694487,0.23054802355945486,-0.704531759244664,0.35698149470104645,0.3319344799450578,0.3762156510666698,0.6425760075543373,-0.9064698649488364,0.29900084187814274,2.531192727803627,1.4152358767039017,2.6166760159956888,1.9715310530434347,2.350005920044639,3.397038736053257,0.521232243909773,2.932587068993688,2.321228816573377,2.9167509667860716,1.6617741536365302,1.8034019529650902,2.165591796080144,1.3461635794584503,1.58592822387322,1.9044563747934258,1.9496890593990683,3.487055364290278,3.795645422072883,1.3007917126376562,2.4278179130660447,1.1990011054655596,3.499920038924537,1.3887661316914646,2.275430503872204,2.61409047381083,1.258508160511487,1.2911320591150202,2.123608722773894,2.388003016003467,2.8416727781038698,3.2306736614320912,2.159437642489049,1.444161242329509,1.7812948100451111,3.0764999316871866,2.1442433143020807,1.9050981488140748,1.1693263393414994,2.107611143257241,2.3141547052355986,1.9222678009025997,1.4152358767039017,2.5630133750774746,2.418746182732824,1.944109794546967,1.5271666148145164,1.764345717044428,1.9009416142184223,1.390188861947913],\"y\":[-0.3193972465851006,0.17700122506478072,0.14494942608555794,0.3182989792519168,-0.32675451293491936,-0.7413304490629146,0.08946138452856947,-0.16338495969832814,0.5783117541867044,0.11377424587411744,-0.6450688986485734,-0.014729939161373946,0.235112000201719,0.5113945870063829,-1.1787646364375748,-1.3380623304006523,-0.8106795141812574,-0.3118491445933543,-0.8728390389622105,-0.5135603087492765,-0.39134593565389375,-0.43299606327902773,-0.1334680695385252,-0.098708854814099,0.037281859677383115,0.14601688049526826,-0.13095148943524978,-0.3677188574341994,-0.31203998023528234,0.19696122492431511,0.20431849127413404,-0.4109242642295725,-0.8133638202969615,-1.0931457594493565,0.12132234786586375,-0.06936447158008005,-0.5993700213794233,-0.26864373779798173,0.48795834442861596,-0.22904383682701215,-0.26352753374425597,0.9409605736411973,0.3419260574716104,-0.1888714289302599,-0.43666314163918735,0.2502082041852116,-0.5037711444614371,0.22794556949382822,-0.5794100215198889,-0.10770608249941108,-0.6851604704673085,-0.31833363826262884,-0.5042628153092041,0.8279590118206324,-0.07459067519771617,0.418246871568679,-0.2834682700615289,1.0048909611818957,-0.22836189978839547,0.7230819050048345,1.265971190526394,0.10398123549904056,0.550036463680475,0.12481785412635756,0.25485420870258946,-0.46717949444151047,0.35296966572385063,0.33361076682491564,0.5431455507797665,0.5838343774718646,0.08461685219478814,0.06892503165601407,0.3277873083339175,0.1827377936213677,-0.14905594436978464,-0.3285044738343232,-0.24444087601634343,-0.26749544731025465,0.16335030068761644,0.36826218975458824,0.7051721317994656,0.6802867635281336,0.31403243824923693,0.420954287313882,0.4842874199812186,-0.1941823147131507,-0.4076195936110071,0.3720370599095019,0.26852439662201516,0.6819267248636269,0.6707115445117208,0.034464444368269016,0.4043858480073254,1.0122482275317146,0.5049100933371088,0.21265468378117014,0.2932189292514192,-0.017738190112416136,0.7560933665990143,0.34889780645033613,0.009849109498801967,0.5749163475464895,-0.34390315134173444,0.17972790435224556,0.040260947142531006,-0.5508366730280555,1.1927587270006457,-0.3555000029774964,0.2438315023106906,-0.7827919488152787,-0.24222840775506704,0.21563761733355538,-0.21627558507402478,0.7768183473443396,0.5396407140267186,-0.1192506920919728,-0.04194325966321132,-1.1757393297134293,-0.2573229734204796,0.7611496364350635,-0.3781960126170509,0.6060915277579306,-0.46067409891189504,0.20439932735215094,-0.3349906058216774,-0.5609013551230778,0.17970479472274667,0.11666865117401151,0.20972947667730268,-0.46463980470873634,-0.3752691671951034,-1.3741650867930475,0.217277578669049,0.14341341045758088,0.49990168107813665,-0.6880856775711761,-0.14006420108978992,-0.04930052601303014,0.16499026202310968,-0.3722878719607977,-0.18365127916901908,-0.40920346681606234,0.5749163475464895,-0.2778626029291949,-0.30479819785469214,-0.1875323028006054,0.3753169825804884,-0.07885885451847575,-0.11662795851202364,0.2826609379905507],\"z\":[-0.027914827589413885,-0.21046427237824428,0.017900256320890092,0.03155937360568139,0.0900792405512012,0.16867765820910433,0.25789215825561806,-0.0218793178867196,0.020759570264780366,-0.19763272498814627,-0.07531800937912042,0.10215025995659033,-0.2068444304496445,0.06129967245709923,-0.1516275236178105,0.277776902703135,0.13818322788071816,0.026668315612593408,-0.12030552339473156,0.21366517222471582,-0.2394440432449535,0.20845723241671457,0.2923967507452421,0.039123258742879995,0.12502108270287993,-0.2534200423446577,0.09491057609939138,-0.07849420513792443,-0.14590889573002963,0.04077107906717969,-0.07722298907343556,-0.14552497200513206,0.2256691497201202,0.15781081295821986,-0.14304958178613908,-0.16433230665302634,-0.2683503756939374,0.09369908247980054,0.07292704569269248,-0.08008230301732616,0.07724769316110323,-0.34923037730596745,0.19250921171270996,0.2638679455134145,0.2987427457551091,-0.09767814404563004,0.16670563660480497,0.08372684903359362,-0.017115024248513414,-0.08929400847882485,-0.4065680254676946,-0.018014186646240583,-0.33832576498089656,-0.17959139187535553,-0.30775789623478544,0.04107609082395695,0.16981023986057522,0.012302919237595668,-0.4153360847593976,0.2811414311764099,-0.26981718276885236,0.13054775024048582,-0.6941468301444191,-0.062114408322260506,0.09045769072570393,-0.314620975832173,0.32802752837859583,-0.27116183725106585,-0.49951904648511375,-0.23500210497205556,0.4596209913591041,-0.22985388760895203,-0.34785435225730815,-0.23107177773628368,-0.32180093724447423,-0.31620907371157475,-0.5217027796644195,-0.16492098374358083,0.035424504846160214,-0.3184915806230472,-0.24421381043355433,-0.3064205612176581,-0.1772427660112444,0.01616712752072942,0.44443349863980874,0.3889630630982108,-0.23716700988387615,-0.6147208425918227,0.18836681164619523,-0.06000922585533808,-0.02430685571895054,-0.009946932894348351,-0.22941024143915661,-0.10569114890301957,0.01661717019826592,0.08320429089567752,0.0779963510876761,-0.20539496698326076,-0.012599647557890871,0.010581660495570824,0.7601654272458952,0.29632252738796455,-0.11078788321910947,0.10842466246342379,0.28538956318444114,-0.34843755579746727,0.5456592956468134,-0.4202399357679673,-0.3483043949348446,0.4233354176825575,0.24244018972576828,-0.03764816823148273,0.03332664184432434,0.28190288211846437,0.6290293264080092,0.47963981962658947,0.044186167630122494,0.13389487393609883,-0.513767763817805,-0.34499503831341766,0.21911932430194228,0.5118555086970007,-0.5731822425680024,-0.06452275663126901,0.28615009116914975,-0.20553452435362424,0.045847703927249336,0.23125646265997032,0.1541800239288298,-0.44953019194184923,-0.49889807587076906,-0.11454820547541876,0.2087631671308371,-0.15323388806308932,-0.17287518911341773,-0.33559229243454247,0.7348789367255105,0.16218023577073773,0.28183584020848024,0.027291132141629607,0.32269374717305765,0.11358659579935429,0.29632252738796455,0.29256952459674224,0.5044826639771787,0.17782509063265564,-0.12189817186718274,0.13048163128784743,0.7232515634899167,0.36290964808537624],\"type\":\"scatter3d\"}],                        {\"template\":{\"data\":{\"histogram2dcontour\":[{\"type\":\"histogram2dcontour\",\"colorbar\":{\"outlinewidth\":0,\"ticks\":\"\"},\"colorscale\":[[0.0,\"#0d0887\"],[0.1111111111111111,\"#46039f\"],[0.2222222222222222,\"#7201a8\"],[0.3333333333333333,\"#9c179e\"],[0.4444444444444444,\"#bd3786\"],[0.5555555555555556,\"#d8576b\"],[0.6666666666666666,\"#ed7953\"],[0.7777777777777778,\"#fb9f3a\"],[0.8888888888888888,\"#fdca26\"],[1.0,\"#f0f921\"]]}],\"choropleth\":[{\"type\":\"choropleth\",\"colorbar\":{\"outlinewidth\":0,\"ticks\":\"\"}}],\"histogram2d\":[{\"type\":\"histogram2d\",\"colorbar\":{\"outlinewidth\":0,\"ticks\":\"\"},\"colorscale\":[[0.0,\"#0d0887\"],[0.1111111111111111,\"#46039f\"],[0.2222222222222222,\"#7201a8\"],[0.3333333333333333,\"#9c179e\"],[0.4444444444444444,\"#bd3786\"],[0.5555555555555556,\"#d8576b\"],[0.6666666666666666,\"#ed7953\"],[0.7777777777777778,\"#fb9f3a\"],[0.8888888888888888,\"#fdca26\"],[1.0,\"#f0f921\"]]}],\"heatmap\":[{\"type\":\"heatmap\",\"colorbar\":{\"outlinewidth\":0,\"ticks\":\"\"},\"colorscale\":[[0.0,\"#0d0887\"],[0.1111111111111111,\"#46039f\"],[0.2222222222222222,\"#7201a8\"],[0.3333333333333333,\"#9c179e\"],[0.4444444444444444,\"#bd3786\"],[0.5555555555555556,\"#d8576b\"],[0.6666666666666666,\"#ed7953\"],[0.7777777777777778,\"#fb9f3a\"],[0.8888888888888888,\"#fdca26\"],[1.0,\"#f0f921\"]]}],\"heatmapgl\":[{\"type\":\"heatmapgl\",\"colorbar\":{\"outlinewidth\":0,\"ticks\":\"\"},\"colorscale\":[[0.0,\"#0d0887\"],[0.1111111111111111,\"#46039f\"],[0.2222222222222222,\"#7201a8\"],[0.3333333333333333,\"#9c179e\"],[0.4444444444444444,\"#bd3786\"],[0.5555555555555556,\"#d8576b\"],[0.6666666666666666,\"#ed7953\"],[0.7777777777777778,\"#fb9f3a\"],[0.8888888888888888,\"#fdca26\"],[1.0,\"#f0f921\"]]}],\"contourcarpet\":[{\"type\":\"contourcarpet\",\"colorbar\":{\"outlinewidth\":0,\"ticks\":\"\"}}],\"contour\":[{\"type\":\"contour\",\"colorbar\":{\"outlinewidth\":0,\"ticks\":\"\"},\"colorscale\":[[0.0,\"#0d0887\"],[0.1111111111111111,\"#46039f\"],[0.2222222222222222,\"#7201a8\"],[0.3333333333333333,\"#9c179e\"],[0.4444444444444444,\"#bd3786\"],[0.5555555555555556,\"#d8576b\"],[0.6666666666666666,\"#ed7953\"],[0.7777777777777778,\"#fb9f3a\"],[0.8888888888888888,\"#fdca26\"],[1.0,\"#f0f921\"]]}],\"surface\":[{\"type\":\"surface\",\"colorbar\":{\"outlinewidth\":0,\"ticks\":\"\"},\"colorscale\":[[0.0,\"#0d0887\"],[0.1111111111111111,\"#46039f\"],[0.2222222222222222,\"#7201a8\"],[0.3333333333333333,\"#9c179e\"],[0.4444444444444444,\"#bd3786\"],[0.5555555555555556,\"#d8576b\"],[0.6666666666666666,\"#ed7953\"],[0.7777777777777778,\"#fb9f3a\"],[0.8888888888888888,\"#fdca26\"],[1.0,\"#f0f921\"]]}],\"mesh3d\":[{\"type\":\"mesh3d\",\"colorbar\":{\"outlinewidth\":0,\"ticks\":\"\"}}],\"scatter\":[{\"fillpattern\":{\"fillmode\":\"overlay\",\"size\":10,\"solidity\":0.2},\"type\":\"scatter\"}],\"parcoords\":[{\"type\":\"parcoords\",\"line\":{\"colorbar\":{\"outlinewidth\":0,\"ticks\":\"\"}}}],\"scatterpolargl\":[{\"type\":\"scatterpolargl\",\"marker\":{\"colorbar\":{\"outlinewidth\":0,\"ticks\":\"\"}}}],\"bar\":[{\"error_x\":{\"color\":\"#2a3f5f\"},\"error_y\":{\"color\":\"#2a3f5f\"},\"marker\":{\"line\":{\"color\":\"#E5ECF6\",\"width\":0.5},\"pattern\":{\"fillmode\":\"overlay\",\"size\":10,\"solidity\":0.2}},\"type\":\"bar\"}],\"scattergeo\":[{\"type\":\"scattergeo\",\"marker\":{\"colorbar\":{\"outlinewidth\":0,\"ticks\":\"\"}}}],\"scatterpolar\":[{\"type\":\"scatterpolar\",\"marker\":{\"colorbar\":{\"outlinewidth\":0,\"ticks\":\"\"}}}],\"histogram\":[{\"marker\":{\"pattern\":{\"fillmode\":\"overlay\",\"size\":10,\"solidity\":0.2}},\"type\":\"histogram\"}],\"scattergl\":[{\"type\":\"scattergl\",\"marker\":{\"colorbar\":{\"outlinewidth\":0,\"ticks\":\"\"}}}],\"scatter3d\":[{\"type\":\"scatter3d\",\"line\":{\"colorbar\":{\"outlinewidth\":0,\"ticks\":\"\"}},\"marker\":{\"colorbar\":{\"outlinewidth\":0,\"ticks\":\"\"}}}],\"scattermapbox\":[{\"type\":\"scattermapbox\",\"marker\":{\"colorbar\":{\"outlinewidth\":0,\"ticks\":\"\"}}}],\"scatterternary\":[{\"type\":\"scatterternary\",\"marker\":{\"colorbar\":{\"outlinewidth\":0,\"ticks\":\"\"}}}],\"scattercarpet\":[{\"type\":\"scattercarpet\",\"marker\":{\"colorbar\":{\"outlinewidth\":0,\"ticks\":\"\"}}}],\"carpet\":[{\"aaxis\":{\"endlinecolor\":\"#2a3f5f\",\"gridcolor\":\"white\",\"linecolor\":\"white\",\"minorgridcolor\":\"white\",\"startlinecolor\":\"#2a3f5f\"},\"baxis\":{\"endlinecolor\":\"#2a3f5f\",\"gridcolor\":\"white\",\"linecolor\":\"white\",\"minorgridcolor\":\"white\",\"startlinecolor\":\"#2a3f5f\"},\"type\":\"carpet\"}],\"table\":[{\"cells\":{\"fill\":{\"color\":\"#EBF0F8\"},\"line\":{\"color\":\"white\"}},\"header\":{\"fill\":{\"color\":\"#C8D4E3\"},\"line\":{\"color\":\"white\"}},\"type\":\"table\"}],\"barpolar\":[{\"marker\":{\"line\":{\"color\":\"#E5ECF6\",\"width\":0.5},\"pattern\":{\"fillmode\":\"overlay\",\"size\":10,\"solidity\":0.2}},\"type\":\"barpolar\"}],\"pie\":[{\"automargin\":true,\"type\":\"pie\"}]},\"layout\":{\"autotypenumbers\":\"strict\",\"colorway\":[\"#636efa\",\"#EF553B\",\"#00cc96\",\"#ab63fa\",\"#FFA15A\",\"#19d3f3\",\"#FF6692\",\"#B6E880\",\"#FF97FF\",\"#FECB52\"],\"font\":{\"color\":\"#2a3f5f\"},\"hovermode\":\"closest\",\"hoverlabel\":{\"align\":\"left\"},\"paper_bgcolor\":\"white\",\"plot_bgcolor\":\"#E5ECF6\",\"polar\":{\"bgcolor\":\"#E5ECF6\",\"angularaxis\":{\"gridcolor\":\"white\",\"linecolor\":\"white\",\"ticks\":\"\"},\"radialaxis\":{\"gridcolor\":\"white\",\"linecolor\":\"white\",\"ticks\":\"\"}},\"ternary\":{\"bgcolor\":\"#E5ECF6\",\"aaxis\":{\"gridcolor\":\"white\",\"linecolor\":\"white\",\"ticks\":\"\"},\"baxis\":{\"gridcolor\":\"white\",\"linecolor\":\"white\",\"ticks\":\"\"},\"caxis\":{\"gridcolor\":\"white\",\"linecolor\":\"white\",\"ticks\":\"\"}},\"coloraxis\":{\"colorbar\":{\"outlinewidth\":0,\"ticks\":\"\"}},\"colorscale\":{\"sequential\":[[0.0,\"#0d0887\"],[0.1111111111111111,\"#46039f\"],[0.2222222222222222,\"#7201a8\"],[0.3333333333333333,\"#9c179e\"],[0.4444444444444444,\"#bd3786\"],[0.5555555555555556,\"#d8576b\"],[0.6666666666666666,\"#ed7953\"],[0.7777777777777778,\"#fb9f3a\"],[0.8888888888888888,\"#fdca26\"],[1.0,\"#f0f921\"]],\"sequentialminus\":[[0.0,\"#0d0887\"],[0.1111111111111111,\"#46039f\"],[0.2222222222222222,\"#7201a8\"],[0.3333333333333333,\"#9c179e\"],[0.4444444444444444,\"#bd3786\"],[0.5555555555555556,\"#d8576b\"],[0.6666666666666666,\"#ed7953\"],[0.7777777777777778,\"#fb9f3a\"],[0.8888888888888888,\"#fdca26\"],[1.0,\"#f0f921\"]],\"diverging\":[[0,\"#8e0152\"],[0.1,\"#c51b7d\"],[0.2,\"#de77ae\"],[0.3,\"#f1b6da\"],[0.4,\"#fde0ef\"],[0.5,\"#f7f7f7\"],[0.6,\"#e6f5d0\"],[0.7,\"#b8e186\"],[0.8,\"#7fbc41\"],[0.9,\"#4d9221\"],[1,\"#276419\"]]},\"xaxis\":{\"gridcolor\":\"white\",\"linecolor\":\"white\",\"ticks\":\"\",\"title\":{\"standoff\":15},\"zerolinecolor\":\"white\",\"automargin\":true,\"zerolinewidth\":2},\"yaxis\":{\"gridcolor\":\"white\",\"linecolor\":\"white\",\"ticks\":\"\",\"title\":{\"standoff\":15},\"zerolinecolor\":\"white\",\"automargin\":true,\"zerolinewidth\":2},\"scene\":{\"xaxis\":{\"backgroundcolor\":\"#E5ECF6\",\"gridcolor\":\"white\",\"linecolor\":\"white\",\"showbackground\":true,\"ticks\":\"\",\"zerolinecolor\":\"white\",\"gridwidth\":2},\"yaxis\":{\"backgroundcolor\":\"#E5ECF6\",\"gridcolor\":\"white\",\"linecolor\":\"white\",\"showbackground\":true,\"ticks\":\"\",\"zerolinecolor\":\"white\",\"gridwidth\":2},\"zaxis\":{\"backgroundcolor\":\"#E5ECF6\",\"gridcolor\":\"white\",\"linecolor\":\"white\",\"showbackground\":true,\"ticks\":\"\",\"zerolinecolor\":\"white\",\"gridwidth\":2}},\"shapedefaults\":{\"line\":{\"color\":\"#2a3f5f\"}},\"annotationdefaults\":{\"arrowcolor\":\"#2a3f5f\",\"arrowhead\":0,\"arrowwidth\":1},\"geo\":{\"bgcolor\":\"white\",\"landcolor\":\"#E5ECF6\",\"subunitcolor\":\"white\",\"showland\":true,\"showlakes\":true,\"lakecolor\":\"white\"},\"title\":{\"x\":0.05},\"mapbox\":{\"style\":\"light\"}}},\"scene\":{\"domain\":{\"x\":[0.0,1.0],\"y\":[0.0,1.0]},\"xaxis\":{\"title\":{\"text\":\"PC1\"}},\"yaxis\":{\"title\":{\"text\":\"PC2\"}},\"zaxis\":{\"title\":{\"text\":\"PC3\"}}},\"coloraxis\":{\"colorbar\":{\"title\":{\"text\":\"target\"}},\"colorscale\":[[0.0,\"#0d0887\"],[0.1111111111111111,\"#46039f\"],[0.2222222222222222,\"#7201a8\"],[0.3333333333333333,\"#9c179e\"],[0.4444444444444444,\"#bd3786\"],[0.5555555555555556,\"#d8576b\"],[0.6666666666666666,\"#ed7953\"],[0.7777777777777778,\"#fb9f3a\"],[0.8888888888888888,\"#fdca26\"],[1.0,\"#f0f921\"]]},\"legend\":{\"tracegroupgap\":0},\"margin\":{\"t\":10,\"r\":20,\"b\":10,\"l\":10},\"width\":900},                        {\"responsive\": true}                    ).then(function(){\n",
       "                            \n",
       "var gd = document.getElementById('48a8e6ae-2a7c-49d4-b4e3-74264a671152');\n",
       "var x = new MutationObserver(function (mutations, observer) {{\n",
       "        var display = window.getComputedStyle(gd).display;\n",
       "        if (!display || display === 'none') {{\n",
       "            console.log([gd, 'removed!']);\n",
       "            Plotly.purge(gd);\n",
       "            observer.disconnect();\n",
       "        }}\n",
       "}});\n",
       "\n",
       "// Listen for the removal of the full notebook cells\n",
       "var notebookContainer = gd.closest('#notebook-container');\n",
       "if (notebookContainer) {{\n",
       "    x.observe(notebookContainer, {childList: true});\n",
       "}}\n",
       "\n",
       "// Listen for the clearing of the current output cell\n",
       "var outputEl = gd.closest('.output');\n",
       "if (outputEl) {{\n",
       "    x.observe(outputEl, {childList: true});\n",
       "}}\n",
       "\n",
       "                        })                };                });            </script>        </div>"
      ]
     },
     "metadata": {},
     "output_type": "display_data"
    }
   ],
   "source": [
    "import plotly.express as px\n",
    "\n",
    "fig = px.scatter_3d(new_df, x='PC1', y='PC2', z='PC3', color='target')\n",
    "fig.update_layout(scene=dict(\n",
    "                    xaxis_title='PC1',\n",
    "                    yaxis_title='PC2',\n",
    "                    zaxis_title='PC3'),\n",
    "                  width=900,\n",
    "                  margin=dict(r=20, b=10, l=10, t=10))\n",
    "fig.show()\n",
    "\n"
   ]
  },
  {
   "cell_type": "code",
   "execution_count": null,
   "id": "230658d2-7d51-493f-b9cf-e11786833bbf",
   "metadata": {},
   "outputs": [],
   "source": []
  }
 ],
 "metadata": {
  "kernelspec": {
   "display_name": "Python 3 (ipykernel)",
   "language": "python",
   "name": "python3"
  },
  "language_info": {
   "codemirror_mode": {
    "name": "ipython",
    "version": 3
   },
   "file_extension": ".py",
   "mimetype": "text/x-python",
   "name": "python",
   "nbconvert_exporter": "python",
   "pygments_lexer": "ipython3",
   "version": "3.11.7"
  }
 },
 "nbformat": 4,
 "nbformat_minor": 5
}
